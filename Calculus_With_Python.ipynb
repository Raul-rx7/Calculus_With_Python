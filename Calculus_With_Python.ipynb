{
 "cells": [
  {
   "cell_type": "code",
   "execution_count": 1,
   "metadata": {},
   "outputs": [
    {
     "name": "stdout",
     "output_type": "stream",
     "text": [
      "IPython console for SymPy 1.7.1 (Python 3.7.3-64-bit) (ground types: python)\n",
      "\n",
      "These commands were executed:\n",
      ">>> from __future__ import division\n",
      ">>> from sympy import *\n",
      ">>> x, y, z, t = symbols('x y z t')\n",
      ">>> k, m, n = symbols('k m n', integer=True)\n",
      ">>> f, g, h = symbols('f g h', cls=Function)\n",
      ">>> init_printing()\n",
      "\n",
      "Documentation can be found at https://docs.sympy.org/1.7.1/\n",
      "\n"
     ]
    }
   ],
   "source": [
    "from sympy import *\n",
    "import math\n",
    "init_session()\n",
    "init_printing()\n",
    "%matplotlib inline"
   ]
  },
  {
   "cell_type": "markdown",
   "metadata": {},
   "source": [
    " -  Definindo algumas funções:"
   ]
  },
  {
   "cell_type": "code",
   "execution_count": 2,
   "metadata": {},
   "outputs": [
    {
     "data": {
      "image/png": "[encoded data removed]",
      "text/latex": [
       "$\\displaystyle x^{3} + \\sin{\\left(x \\right)} + \\tan{\\left(x \\right)}$"
      ],
      "text/plain": [
       " 3                  \n",
       "x  + sin(x) + tan(x)"
      ]
     },
     "execution_count": 2,
     "metadata": {},
     "output_type": "execute_result"
    }
   ],
   "source": [
    "eq1 = (x**3 + sin(x) + tan(x))\n",
    "eq1"
   ]
  },
  {
   "cell_type": "code",
   "execution_count": 3,
   "metadata": {},
   "outputs": [
    {
     "data": {
      "image/png": "[encoded data removed]",
      "text/latex": [
       "$\\displaystyle x^{2} + 2 x$"
      ],
      "text/plain": [
       " 2      \n",
       "x  + 2⋅x"
      ]
     },
     "execution_count": 3,
     "metadata": {},
     "output_type": "execute_result"
    }
   ],
   "source": [
    "eq2 = (x**2 + 2*x)\n",
    "eq2"
   ]
  },
  {
   "cell_type": "markdown",
   "metadata": {},
   "source": [
    "# Derivadas: "
   ]
  },
  {
   "cell_type": "code",
   "execution_count": 4,
   "metadata": {},
   "outputs": [
    {
     "data": {
      "image/png": "[encoded data removed]",
      "text/latex": [
       "$\\displaystyle \\frac{d}{d x} \\left(x^{3} + \\sin{\\left(x \\right)} + \\tan{\\left(x \\right)}\\right)$"
      ],
      "text/plain": [
       "d ⎛ 3                  ⎞\n",
       "──⎝x  + sin(x) + tan(x)⎠\n",
       "dx                      "
      ]
     },
     "execution_count": 4,
     "metadata": {},
     "output_type": "execute_result"
    }
   ],
   "source": [
    "# Montando a derivada da primeira equação:\n",
    "Derivative(eq1)"
   ]
  },
  {
   "cell_type": "code",
   "execution_count": 5,
   "metadata": {},
   "outputs": [
    {
     "data": {
      "image/png": "[encoded data removed]",
      "text/latex": [
       "$\\displaystyle 3 x^{2} + \\cos{\\left(x \\right)} + \\tan^{2}{\\left(x \\right)} + 1$"
      ],
      "text/plain": [
       "   2               2       \n",
       "3⋅x  + cos(x) + tan (x) + 1"
      ]
     },
     "execution_count": 5,
     "metadata": {},
     "output_type": "execute_result"
    }
   ],
   "source": [
    "# Derivando a primeira equação:\n",
    "Derivative(eq1).doit()"
   ]
  },
  {
   "cell_type": "code",
   "execution_count": 6,
   "metadata": {},
   "outputs": [
    {
     "data": {
      "image/png": "[encoded data removed]",
      "text/latex": [
       "$\\displaystyle 16 \\left(\\tan^{2}{\\left(x \\right)} + 1\\right)^{2} \\tan{\\left(x \\right)} + 8 \\left(\\tan^{2}{\\left(x \\right)} + 1\\right) \\tan^{3}{\\left(x \\right)} + \\sin{\\left(x \\right)}$"
      ],
      "text/plain": [
       "                2                                          \n",
       "   ⎛   2       ⎞             ⎛   2       ⎞    3            \n",
       "16⋅⎝tan (x) + 1⎠ ⋅tan(x) + 8⋅⎝tan (x) + 1⎠⋅tan (x) + sin(x)"
      ]
     },
     "execution_count": 6,
     "metadata": {},
     "output_type": "execute_result"
    }
   ],
   "source": [
    "(eq1).diff(x, 4)"
   ]
  },
  {
   "cell_type": "markdown",
   "metadata": {},
   "source": [
    "# Integrais Indefinidas:"
   ]
  },
  {
   "cell_type": "code",
   "execution_count": 7,
   "metadata": {},
   "outputs": [
    {
     "data": {
      "image/png": "[encoded data removed]",
      "text/latex": [
       "$\\displaystyle \\int \\left(x^{3} + \\sin{\\left(x \\right)} + \\tan{\\left(x \\right)}\\right)\\, dx$"
      ],
      "text/plain": [
       "⌠                          \n",
       "⎮ ⎛ 3                  ⎞   \n",
       "⎮ ⎝x  + sin(x) + tan(x)⎠ dx\n",
       "⌡                          "
      ]
     },
     "execution_count": 7,
     "metadata": {},
     "output_type": "execute_result"
    }
   ],
   "source": [
    "# Montando a integração da \"eq1\":\n",
    "Integral(eq1)"
   ]
  },
  {
   "cell_type": "code",
   "execution_count": 8,
   "metadata": {},
   "outputs": [
    {
     "data": {
      "image/png": "[encoded data removed]",
      "text/latex": [
       "$\\displaystyle \\frac{x^{4}}{4} - \\log{\\left(\\cos{\\left(x \\right)} \\right)} - \\cos{\\left(x \\right)}$"
      ],
      "text/plain": [
       " 4                       \n",
       "x                        \n",
       "── - log(cos(x)) - cos(x)\n",
       "4                        "
      ]
     },
     "execution_count": 8,
     "metadata": {},
     "output_type": "execute_result"
    }
   ],
   "source": [
    "# Integrando a \"eq1\" sem os limites de integração:\n",
    "integrate(eq1)"
   ]
  },
  {
   "cell_type": "code",
   "execution_count": 8,
   "metadata": {},
   "outputs": [
    {
     "data": {
      "image/png": "[encoded data removed]",
      "text/latex": [
       "$\\displaystyle \\int \\left(x^{2} + 2 x\\right)\\, dx$"
      ],
      "text/plain": [
       "⌠              \n",
       "⎮ ⎛ 2      ⎞   \n",
       "⎮ ⎝x  + 2⋅x⎠ dx\n",
       "⌡              "
      ]
     },
     "execution_count": 8,
     "metadata": {},
     "output_type": "execute_result"
    }
   ],
   "source": [
    "# Montando a integral de \"eq2\":\n",
    "Integral(eq2)"
   ]
  },
  {
   "cell_type": "code",
   "execution_count": 9,
   "metadata": {},
   "outputs": [
    {
     "data": {
      "image/png": "[encoded data removed]",
      "text/latex": [
       "$\\displaystyle \\frac{x^{3}}{3} + x^{2}$"
      ],
      "text/plain": [
       " 3     \n",
       "x     2\n",
       "── + x \n",
       "3      "
      ]
     },
     "execution_count": 9,
     "metadata": {},
     "output_type": "execute_result"
    }
   ],
   "source": [
    "# Resultado da integral primeira da \"eq2\"\n",
    "i = Integral(eq2)\n",
    "i.doit()"
   ]
  },
  {
   "cell_type": "code",
   "execution_count": 10,
   "metadata": {},
   "outputs": [
    {
     "data": {
      "image/png": "[encoded data removed]",
      "text/latex": [
       "$\\displaystyle \\iint \\left(x^{2} + 2 x\\right)\\, dx\\, dx$"
      ],
      "text/plain": [
       "⌠ ⌠                 \n",
       "⎮ ⎮ ⎛ 2      ⎞      \n",
       "⎮ ⎮ ⎝x  + 2⋅x⎠ dx dx\n",
       "⌡ ⌡                 "
      ]
     },
     "execution_count": 10,
     "metadata": {},
     "output_type": "execute_result"
    }
   ],
   "source": [
    "# Integral segunda:\n",
    "Integral(i)"
   ]
  },
  {
   "cell_type": "code",
   "execution_count": 11,
   "metadata": {},
   "outputs": [
    {
     "data": {
      "image/png": "[encoded data removed]",
      "text/latex": [
       "$\\displaystyle \\frac{x^{4}}{12} + \\frac{x^{3}}{3}$"
      ],
      "text/plain": [
       " 4    3\n",
       "x    x \n",
       "── + ──\n",
       "12   3 "
      ]
     },
     "execution_count": 11,
     "metadata": {},
     "output_type": "execute_result"
    }
   ],
   "source": [
    "# Resultado da Integral segunda:\n",
    "ii = Integral(i)\n",
    "ii.doit()"
   ]
  },
  {
   "cell_type": "code",
   "execution_count": 12,
   "metadata": {},
   "outputs": [
    {
     "data": {
      "image/png": "[encoded data removed]",
      "text/latex": [
       "$\\displaystyle \\iiint \\left(x^{2} + 2 x\\right)\\, dx\\, dx\\, dx$"
      ],
      "text/plain": [
       "⌠ ⌠ ⌠                    \n",
       "⎮ ⎮ ⎮ ⎛ 2      ⎞         \n",
       "⎮ ⎮ ⎮ ⎝x  + 2⋅x⎠ dx dx dx\n",
       "⌡ ⌡ ⌡                    "
      ]
     },
     "execution_count": 12,
     "metadata": {},
     "output_type": "execute_result"
    }
   ],
   "source": [
    "# Integral terceira:\n",
    "Integral(Integral(i))"
   ]
  },
  {
   "cell_type": "code",
   "execution_count": 13,
   "metadata": {},
   "outputs": [
    {
     "data": {
      "image/png": "[encoded data removed]",
      "text/latex": [
       "$\\displaystyle \\frac{x^{5}}{60} + \\frac{x^{4}}{12}$"
      ],
      "text/plain": [
       " 5    4\n",
       "x    x \n",
       "── + ──\n",
       "60   12"
      ]
     },
     "execution_count": 13,
     "metadata": {},
     "output_type": "execute_result"
    }
   ],
   "source": [
    "# Resultado da Integral terceira:\n",
    "iii = Integral(ii)\n",
    "iii.doit()"
   ]
  },
  {
   "cell_type": "markdown",
   "metadata": {},
   "source": [
    "# Integral Definida:\n",
    "\n",
    "- utilizando os limites de integração: 0 e 8"
   ]
  },
  {
   "cell_type": "code",
   "execution_count": 14,
   "metadata": {},
   "outputs": [
    {
     "data": {
      "image/png": "[encoded data removed]",
      "text/latex": [
       "$\\displaystyle \\int\\limits_{0}^{8} \\left(x^{2} + 2 x\\right)\\, dx$"
      ],
      "text/plain": [
       "8              \n",
       "⌠              \n",
       "⎮ ⎛ 2      ⎞   \n",
       "⎮ ⎝x  + 2⋅x⎠ dx\n",
       "⌡              \n",
       "0              "
      ]
     },
     "execution_count": 14,
     "metadata": {},
     "output_type": "execute_result"
    }
   ],
   "source": [
    "# Montando a integral a \"eq2\" defindo os limites de integração (0 <= x <= 8):\n",
    "Integral(eq2, (x, 0, 8))"
   ]
  },
  {
   "cell_type": "code",
   "execution_count": 15,
   "metadata": {},
   "outputs": [
    {
     "data": {
      "image/png": "[encoded data removed]",
      "text/latex": [
       "$\\displaystyle \\frac{704}{3}$"
      ],
      "text/plain": [
       "704/3"
      ]
     },
     "execution_count": 15,
     "metadata": {},
     "output_type": "execute_result"
    }
   ],
   "source": [
    "# Integrando a \"eq2\" com os limites de integração 0 <= x <= 8:\n",
    "Integral(eq2, (x, 0, 8)).doit()"
   ]
  },
  {
   "cell_type": "markdown",
   "metadata": {},
   "source": [
    "Obs.: Também cabe a integração de 2 ou mais ordens em Integrais Definidas. Fica de exercício !"
   ]
  },
  {
   "cell_type": "markdown",
   "metadata": {},
   "source": [
    "# Definindo uma equação:\n",
    "\n",
    "Resolução de equações:\n",
    "\n",
    "- Comuns;\n",
    "\n",
    "- EDOs"
   ]
  },
  {
   "cell_type": "code",
   "execution_count": 16,
   "metadata": {},
   "outputs": [
    {
     "data": {
      "image/png": "[encoded data removed]",
      "text/latex": [
       "$\\displaystyle x^{2} - 3 x + 2 = 0$"
      ],
      "text/plain": [
       " 2              \n",
       "x  - 3⋅x + 2 = 0"
      ]
     },
     "execution_count": 16,
     "metadata": {},
     "output_type": "execute_result"
    }
   ],
   "source": [
    "eq4 = Eq(x**2 - 3*x + 2, 0)\n",
    "eq4"
   ]
  },
  {
   "cell_type": "code",
   "execution_count": 17,
   "metadata": {},
   "outputs": [
    {
     "data": {
      "image/png": "[encoded data removed]",
      "text/latex": [
       "$\\displaystyle \\left[ 1, \\  2\\right]$"
      ],
      "text/plain": [
       "[1, 2]"
      ]
     },
     "execution_count": 17,
     "metadata": {},
     "output_type": "execute_result"
    }
   ],
   "source": [
    "solve(eq4, x)"
   ]
  },
  {
   "cell_type": "markdown",
   "metadata": {},
   "source": [
    "- Uma EDO:"
   ]
  },
  {
   "cell_type": "code",
   "execution_count": 18,
   "metadata": {},
   "outputs": [],
   "source": [
    "x = Symbol('x')\n",
    "y = Function('y')"
   ]
  },
  {
   "cell_type": "code",
   "execution_count": 19,
   "metadata": {},
   "outputs": [
    {
     "data": {
      "image/png": "[encoded data removed]",
      "text/latex": [
       "$\\displaystyle y{\\left(x \\right)} + \\frac{d}{d x} y{\\left(x \\right)} = 3$"
      ],
      "text/plain": [
       "       d           \n",
       "y(x) + ──(y(x)) = 3\n",
       "       dx          "
      ]
     },
     "execution_count": 19,
     "metadata": {},
     "output_type": "execute_result"
    }
   ],
   "source": [
    "EDO = Eq(y(x) + y(x).diff(x), 3)\n",
    "EDO"
   ]
  },
  {
   "cell_type": "code",
   "execution_count": 20,
   "metadata": {},
   "outputs": [
    {
     "data": {
      "image/png": "[encoded data removed]",
      "text/latex": [
       "$\\displaystyle y{\\left(x \\right)} = C_{1} e^{- x} + 3$"
      ],
      "text/plain": [
       "           -x    \n",
       "y(x) = C₁⋅ℯ   + 3"
      ]
     },
     "execution_count": 20,
     "metadata": {},
     "output_type": "execute_result"
    }
   ],
   "source": [
    "dsolve(EDO, y(x))"
   ]
  },
  {
   "cell_type": "code",
   "execution_count": null,
   "metadata": {},
   "outputs": [],
   "source": []
  }
 ],
 "metadata": {
  "kernelspec": {
   "display_name": "Python 3",
   "language": "python",
   "name": "python3"
  },
  "language_info": {
   "codemirror_mode": {
    "name": "ipython",
    "version": 3
   },
   "file_extension": ".py",
   "mimetype": "text/x-python",
   "name": "python",
   "nbconvert_exporter": "python",
   "pygments_lexer": "ipython3",
   "version": "3.7.3"
  }
 },
 "nbformat": 4,
 "nbformat_minor": 2
}
